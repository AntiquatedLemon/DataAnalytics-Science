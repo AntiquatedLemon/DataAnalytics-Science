{
 "cells": [
  {
   "cell_type": "markdown",
   "id": "0d253834-4056-4ef6-842a-de09f6a6a022",
   "metadata": {},
   "source": [
    "## Analytics\n",
    "\n",
    "Descriptive\n",
    "    What happened\n",
    "    Excel Reports, Executive Dashboards, PowerPoint\n",
    "Diagnostic\n",
    "    Why did it happen?\n",
    "    BI Dashboards, Excel Workbooks, Analytics Tools, PowerPoint\n",
    "Predictive Analytics\n",
    "    What it likely to happen?\n",
    "    BI Dashboards, Excel Workbooks, Analytics TOols, PowerPoint\n",
    "Prescriptive Analytics\n",
    "    How to optimize?\n",
    "    Excel Workbooks\n",
    "    Analytics Tools\n",
    "    PowerPoint\n",
    "\n",
    "## Logistic Regression (binary)\n",
    "Binary: 2 outcomes; yes/no, true/false, approve/deny, legit/fraud\n",
    "what factors are associated with high performers quitting (will they quit, yes/no)\n",
    "chance that a prospect will become a donor? (will they donate, yes/no)\n",
    "feature usage are highly predictive of a sticky customer (will they stay, yes/no)\n",
    "what demographic factors predict conversion?\n",
    "chance of txn resulting in chargeback? \n",
    "\n",
    "## Model\n",
    "an informative representation of an object, person or system; physical (planes) or abstract (math)\n"
   ]
  },
  {
   "cell_type": "code",
   "execution_count": null,
   "id": "1af35754-6c11-4548-baff-01c30bfc2c60",
   "metadata": {},
   "outputs": [],
   "source": [
    "#imports\n",
    "import pandas as pd\n",
    "import statsmodels.formula.api as smf"
   ]
  },
  {
   "cell_type": "code",
   "execution_count": null,
   "id": "bf9b0f19-23a7-482a-b14c-1dcd75981c0c",
   "metadata": {},
   "outputs": [],
   "source": [
    "#Load the Heart dataset\n",
    "heart = pd.read_csv('Heart.csv')\n",
    "heart.head()"
   ]
  },
  {
   "cell_type": "code",
   "execution_count": null,
   "id": "52da20a1-74e8-4460-96ab-fedfb55ab883",
   "metadata": {},
   "outputs": [],
   "source": [
    "#Craft a logistic regression model to predict Heart Disease based on being male\n",
    "heart_model_1 = smf.logit(formula = 'HeartDisease ~ Male', data = heart)\n",
    "#predict HeartDisease by Male\n",
    "\n",
    "#Train the model from the data\n",
    "model_1_results = heart_model1.fit()\n",
    "\n",
    "#What are the model results?\n",
    "print(model_1_results.summary())"
   ]
  }
 ],
 "metadata": {
  "kernelspec": {
   "display_name": "Python 3 (ipykernel)",
   "language": "python",
   "name": "python3"
  },
  "language_info": {
   "codemirror_mode": {
    "name": "ipython",
    "version": 3
   },
   "file_extension": ".py",
   "mimetype": "text/x-python",
   "name": "python",
   "nbconvert_exporter": "python",
   "pygments_lexer": "ipython3",
   "version": "3.12.3"
  }
 },
 "nbformat": 4,
 "nbformat_minor": 5
}
